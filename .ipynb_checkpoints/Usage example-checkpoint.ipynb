{
 "cells": [
  {
   "cell_type": "code",
   "execution_count": 3,
   "metadata": {
    "ExecuteTime": {
     "end_time": "2019-01-17T00:33:58.329000+01:00",
     "start_time": "2019-01-17T00:33:50.708000"
    },
    "collapsed": false
   },
   "outputs": [],
   "source": [
    "from PKRP import  PolyKernelRandomProjection"
   ]
  },
  {
   "cell_type": "code",
   "execution_count": 4,
   "metadata": {
    "ExecuteTime": {
     "end_time": "2019-01-17T00:34:13.206000+01:00",
     "start_time": "2019-01-17T00:34:06.663000"
    },
    "collapsed": false
   },
   "outputs": [
    {
     "name": "stderr",
     "output_type": "stream",
     "text": [
      "Using Theano backend.\n"
     ]
    }
   ],
   "source": [
    "# Load and scale MNIST data\n",
    "\n",
    "from keras.datasets import mnist\n",
    "\n",
    "(X_train, Y_train), (X_test, Y_test) = mnist.load_data()\n",
    "X_train = X_train.reshape(-1,28*28)/128. - 1\n",
    "X_test = X_test.reshape(-1,28*28)/128. - 1"
   ]
  },
  {
   "cell_type": "markdown",
   "metadata": {
    "ExecuteTime": {
     "end_time": "2019-01-16T17:34:27.780000+01:00",
     "start_time": "2019-01-16T17:34:27.776000"
    }
   },
   "source": [
    "### Experiments on classification accuracy"
   ]
  },
  {
   "cell_type": "code",
   "execution_count": 6,
   "metadata": {
    "collapsed": false
   },
   "outputs": [
    {
     "name": "stdout",
     "output_type": "stream",
     "text": [
      "1 loop, best of 3: 3.26 s per loop\n"
     ]
    }
   ],
   "source": [
    "%timeit pkrp.transform(X_train, ver2=True)"
   ]
  },
  {
   "cell_type": "code",
   "execution_count": 7,
   "metadata": {
    "collapsed": false
   },
   "outputs": [
    {
     "name": "stdout",
     "output_type": "stream",
     "text": [
      "1 loop, best of 3: 3.3 s per loop\n"
     ]
    }
   ],
   "source": [
    "%timeit pkrp.transform(X_train, ver2=False)"
   ]
  },
  {
   "cell_type": "code",
   "execution_count": 19,
   "metadata": {
    "ExecuteTime": {
     "end_time": "2019-01-17T00:34:16.661000+01:00",
     "start_time": "2019-01-17T00:34:15.686000"
    },
    "collapsed": true
   },
   "outputs": [],
   "source": [
    "from sklearn.model_selection import  train_test_split\n",
    "from sklearn.pipeline import Pipeline\n",
    "\n",
    "from sklearn.preprocessing import Normalizer, StandardScaler\n",
    "\n",
    "from sklearn.svm import LinearSVC, SVC"
   ]
  },
  {
   "cell_type": "code",
   "execution_count": 20,
   "metadata": {
    "ExecuteTime": {
     "end_time": "2019-01-17T01:54:00.679000+01:00",
     "start_time": "2019-01-17T01:48:50.722000"
    },
    "collapsed": false
   },
   "outputs": [
    {
     "name": "stdout",
     "output_type": "stream",
     "text": [
      "0.9167\n"
     ]
    }
   ],
   "source": [
    "# Linear SVM accuracy (91-92%)\n",
    "# Can be improved a bit by StandardScalling and adjusting C\n",
    "\n",
    "lsvm = LinearSVC(C=.5).fit(X_train, Y_train)\n",
    "print lsvm.score(X_test, Y_test) "
   ]
  },
  {
   "cell_type": "code",
   "execution_count": 5,
   "metadata": {
    "ExecuteTime": {
     "end_time": "2019-01-17T00:41:17.483000+01:00",
     "start_time": "2019-01-17T00:39:38.559000"
    },
    "code_folding": [],
    "collapsed": false
   },
   "outputs": [
    {
     "name": "stdout",
     "output_type": "stream",
     "text": [
      "0.973\n"
     ]
    }
   ],
   "source": [
    "# PolyKernelRandomProjection + Linear SVM accuracy (97-98%)\n",
    "# An appropiate C value must be selected for each case. Satandard-Scalling may be used between the projection and the SVM.\n",
    "\n",
    "pkrp_svm = Pipeline([(\"kRP\", PolyKernelRandomProjection(n_components=2000, p=488, t=10, degree=2)),\n",
    "                     #(\"standarize\", StandardScaler()),\n",
    "                     (\"SVM\", LinearSVC(C=5e-5))\n",
    "                    ])\n",
    "\n",
    "pkrp_svm.fit(X_train, Y_train)\n",
    "print pkrp_svm.score(X_test, Y_test)"
   ]
  },
  {
   "cell_type": "code",
   "execution_count": 4,
   "metadata": {
    "ExecuteTime": {
     "end_time": "2019-01-17T00:47:03.248000+01:00",
     "start_time": "2019-01-17T00:41:52.238000"
    },
    "collapsed": false
   },
   "outputs": [
    {
     "name": "stdout",
     "output_type": "stream",
     "text": [
      "0.9784\n"
     ]
    }
   ],
   "source": [
    "# Poly-kernel SVM accuracy (aprx. 98%)\n",
    "\n",
    "svm = SVC(C=0.5, kernel=\"poly\", gamma=1., degree=2, coef0=0).fit(  X_train, Y_train)\n",
    "print svm.score(X_test, Y_test)"
   ]
  },
  {
   "cell_type": "code",
   "execution_count": 3,
   "metadata": {
    "collapsed": false
   },
   "outputs": [],
   "source": [
    "# P-RP\n",
    "from sklearn.base import BaseEstimator,TransformerMixin\n",
    "from numba import jit\n",
    "from numpy import sqrt\n",
    "from sklearn import random_projection \n",
    "\n",
    "class PRP( BaseEstimator, TransformerMixin):\n",
    "    \n",
    "    projectionMatrix = None\n",
    "    \n",
    "    def __init__(self, n_components=100, s=1, t=20):\n",
    "        \n",
    "        self.n_components = n_components\n",
    "        self.s = s\n",
    "        self.t = t\n",
    "\n",
    "    \n",
    "    def fit(self, X, y=None):\n",
    "        self.projectionMatrix = fast_generateRs(X, self.t, self.n_components, s=self.s)\n",
    "        self.projectionMatrix = self.projectionMatrix.astype(np.float64)\n",
    "    \n",
    "        return self\n",
    "    \n",
    "\n",
    "    def transform(self, X, y=None):\n",
    "        return fast_randomProjection_n(X, self.projectionMatrix)/sqrt(self.n_components)\n",
    "\n",
    "@jit(nopython=True)\n",
    "def fast_randomProjection_n(X, Rs):\n",
    "    Xrp = np.zeros(shape=(X.shape[0], Rs.shape[1]))\n",
    "    #X2 = X**2\n",
    "    #Rs2 = Rs**2\n",
    "    \n",
    "    for r in range(Rs.shape[0]/2):\n",
    "        Xrp += np.dot(X, Rs[r].T)**2 #- np.dot(X2, Rs2[r].T)\n",
    "    for r in range(Rs.shape[0]/2):\n",
    "        Xrp -= np.dot(X, Rs[r+Rs.shape[0]/2].T)**2 # - np.dot(X2, Rs2[r].T)\n",
    "    return Xrp\n",
    "\n",
    "def fast_generateRs(X, nRs, n_comp,s):\n",
    "\n",
    "    return sqrt(s)*np.random.choice([-1,0,1], p=[.5/s, 1-1./s, .5/s], size=(nRs,n_comp, X.shape[1]))/sqrt(sqrt(2*nRs))\n",
    "\n",
    "def generateRs(X, nRs, n_comp, s):\n",
    "    r = sqrt(nRs)/float(nRs)\n",
    "    Rs = []\n",
    "    for i in range(nRs):\n",
    "        Rpn = random_projection.SparseRandomProjection(n_components=n_comp, density=1./s)\n",
    "        Rpn.fit(X)\n",
    "        Rn = Rpn.components_*sqrt(n_comp)*sqrt(r/sqrt(2.0))\n",
    "        Rs.append(Rn)\n",
    "    return np.asarray(Rs)"
   ]
  },
  {
   "cell_type": "markdown",
   "metadata": {
    "ExecuteTime": {
     "end_time": "2019-01-16T17:35:00.900000+01:00",
     "start_time": "2019-01-16T17:35:00.897000"
    }
   },
   "source": [
    "## Experiments on distance preservation"
   ]
  },
  {
   "cell_type": "code",
   "execution_count": 21,
   "metadata": {
    "ExecuteTime": {
     "end_time": "2019-01-17T01:37:01.661000+01:00",
     "start_time": "2019-01-17T01:37:01.659000"
    },
    "collapsed": true
   },
   "outputs": [],
   "source": [
    "X_test_small = X_test[0:500]\n",
    "X_test = X_test[500:]\n"
   ]
  },
  {
   "cell_type": "code",
   "execution_count": 23,
   "metadata": {
    "collapsed": false
   },
   "outputs": [],
   "source": [
    "# Compute the pairwise distance matrix in the kernel feature space for the degree-two homogeneous poly kernel\n",
    "# K = <x,y>^2\n",
    "# Distances in the kernel feature space can be computed as Dxy = K(x,x) + K(y,y) - 2 K(x,y)\n",
    "\n",
    "import numpy as np\n",
    "\n",
    "c = 100\n",
    "d = 3\n",
    "\n",
    "Kxx = (np.sum(X_test_small**2, axis=1)+c)**d\n",
    "Kxx = Kxx.reshape((500,1))\n",
    "\n",
    "Kyy = (np.sum(X_test**2, axis=1)+c)**d\n",
    "Kyy = Kyy.reshape((X_test.shape[0], 1))\n",
    "\n",
    "Kxy = (np.dot(X_test_small, X_test.T)+c)**d\n",
    "\n",
    "D = np.zeros((500, X_test.shape[0]))\n",
    "D += Kxx \n",
    "D += Kyy.T\n",
    "D += -2*Kxy"
   ]
  },
  {
   "cell_type": "code",
   "execution_count": 24,
   "metadata": {
    "collapsed": false
   },
   "outputs": [],
   "source": [
    "c=100\n",
    "\n",
    "X_test_small_c = np.concatenate([X_test_small, np.sqrt(c)*np.ones((X_test_small.shape[0], 1))], axis=1)\n",
    "X_test_c = np.concatenate([X_test, np.sqrt(c)*np.ones((X_test.shape[0], 1))], axis=1)\n",
    "\n",
    "krp =  PolyKernelRandomProjection(degree=3, n_components=500, t=200, s=10, gaussian=False, minimize_repetition=True, p=10000).fit(X_test_small_c)\n",
    "\n",
    "X_pkrp_small = krp.transform(X_test_small_c)\n",
    "X_pkrp = krp.transform(X_test_c)\n",
    "D_pkrp = pairwise_distances(X_pkrp_small, X_pkrp)**2"
   ]
  },
  {
   "cell_type": "code",
   "execution_count": 26,
   "metadata": {
    "ExecuteTime": {
     "end_time": "2019-01-17T01:37:36.438000+01:00",
     "start_time": "2019-01-17T01:37:34.287000"
    },
    "collapsed": false
   },
   "outputs": [
    {
     "data": {
      "image/png": "[encoded data removed]",
      "text/plain": [
       "<matplotlib.figure.Figure at 0x1df65b00>"
      ]
     },
     "metadata": {},
     "output_type": "display_data"
    }
   ],
   "source": [
    "import matplotlib.pyplot as plt\n",
    "import numpy as np\n",
    "%matplotlib inline\n",
    "\n",
    "n_points = 500*1000\n",
    "# Plot distances in the kernel feature space against distances in the output representation\n",
    "# Also compute the average relative distortion\n",
    "\n",
    "avgdist = np.nanmean(np.divide(np.abs(D_pkrp - D), D))\n",
    "plt.scatter(D.ravel()[:n_points], D_pkrp.ravel()[:n_points], s=1, alpha=0.15, c=\"magenta\", linewidths=0)\n",
    "plt.legend([\"avg. distortion: %.3f\"%avgdist], loc=\"lower right\")\n",
    "plt.plot([0,np.max(D)],[0,np.max(D)], c=\"black\", linewidth=2, dashes=[3,3])\n",
    "plt.xlim([0, np.max(D)*1.1])\n",
    "plt.ylim([0, np.max(D)*1.1])\n",
    "plt.xlabel(\"Distances in the kernel feature space\")\n",
    "plt.ylabel(\"Distances in output space\")\n",
    "\n",
    "plt.show()"
   ]
  },
  {
   "cell_type": "code",
   "execution_count": 9,
   "metadata": {
    "collapsed": true
   },
   "outputs": [],
   "source": [
    "# Use this to create the GIF in the repo\n",
    "\n",
    "#avgdistList = []\n",
    "#ncomLis = []\n",
    "#\n",
    "#\n",
    "#from pylab import rcParams\n",
    "#rcParams['figure.figsize'] = 10, 4\n",
    "#\n",
    "#plt.subplots_adjust(wspace=2)\n",
    "#plt.figure()\n",
    "#\n",
    "#for i in range(5, 500):\n",
    "#    print i\n",
    "#    temp = []\n",
    "#    for j in range(1,4):\n",
    "#\n",
    "#        X_pkrp = PolyKernelRandomProjection(n_components=i, p=5000, t=20, degree=2).fit_transform(X_test_small)\n",
    "#        D_pkrp = pairwise_distances(X_pkrp)**2\n",
    "#\n",
    "#\n",
    "#        plt.subplots_adjust(wspace=2)\n",
    "#        ax1 = plt.subplot(1,2,1)\n",
    "#        \n",
    "#        ax1.set_title(\"n_components = %d\"%i)\n",
    "#        avgdist = np.nanmean(np.divide(np.abs(D_pkrp - D), D))\n",
    "#        temp.append(avgdist)\n",
    "#        ax1.scatter(D.ravel(), D_pkrp.ravel(), s=1, alpha=0.15, c=\"magenta\", linewidths=0)\n",
    "#        ax1.legend([\"avg. distortion: %.3f\"%avgdist], loc=\"lower right\", markerscale=0,handletextpad=-2.0)\n",
    "#        ax1.plot([0,np.max(D)],[0,np.max(D)], c=\"black\", linewidth=2, dashes=[3,3])\n",
    "#        ax1.set_xlim([0, np.max(D)*1.1])\n",
    "#        ax1.set_ylim([0, np.max(D)*1.1])\n",
    "#        ax1.set_xlabel(\"Pairwise distances in the kernel feature space\")\n",
    "#        ax1.set_ylabel(\"Pairwise distances in output space\")\n",
    "#        \n",
    "#        ax2 = plt.subplot(1,2,2)\n",
    "#       \n",
    "#    \n",
    "#        #avgdist = np.nanmean(np.divide(np.abs(D_pkrp - D), D))\n",
    "#        #ax2.legend([\"avg. distortion: %.2f\"%avgdist], loc=\"lower right\")\n",
    "#        ax2.plot(ncomLis, avgdistList, c=\"red\", linewidth=2)\n",
    "#        ax2.set_xlim([4, 250])\n",
    "#        ax2.set_ylim([0, .55])\n",
    "#        ax2.set_xlabel(\"n_components\")\n",
    "#        ax2.set_ylabel(\"Avg. distortion\")\n",
    "#        \n",
    "#        plt.tight_layout()\n",
    "#\n",
    "#        #plt.show()\n",
    "#        plt.savefig(\"bfig_%04d_%02d.png\"%(i,j))\n",
    "#        plt.clf()\n",
    "#    \n",
    "#    ncomLis.append(i)\n",
    "#    avgdistList.append(np.mean(temp))"
   ]
  },
  {
   "cell_type": "code",
   "execution_count": null,
   "metadata": {
    "collapsed": true
   },
   "outputs": [],
   "source": []
  }
 ],
 "metadata": {
  "kernelspec": {
   "display_name": "Python 2",
   "language": "python",
   "name": "python2"
  },
  "language_info": {
   "codemirror_mode": {
    "name": "ipython",
    "version": 2
   },
   "file_extension": ".py",
   "mimetype": "text/x-python",
   "name": "python",
   "nbconvert_exporter": "python",
   "pygments_lexer": "ipython2",
   "version": "2.7.12"
  }
 },
 "nbformat": 4,
 "nbformat_minor": 2
}
