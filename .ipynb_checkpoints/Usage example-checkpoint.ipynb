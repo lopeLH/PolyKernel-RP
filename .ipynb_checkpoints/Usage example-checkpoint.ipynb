{
 "cells": [
  {
   "cell_type": "code",
   "execution_count": 1,
   "metadata": {
    "ExecuteTime": {
     "end_time": "2019-01-17T00:33:58.329000+01:00",
     "start_time": "2019-01-17T00:33:50.708000"
    },
    "collapsed": false
   },
   "outputs": [],
   "source": [
    "from PKRP import  PolyKernelRandomProjection"
   ]
  },
  {
   "cell_type": "code",
   "execution_count": 2,
   "metadata": {
    "ExecuteTime": {
     "end_time": "2019-01-17T00:34:13.206000+01:00",
     "start_time": "2019-01-17T00:34:06.663000"
    },
    "collapsed": false
   },
   "outputs": [
    {
     "name": "stderr",
     "output_type": "stream",
     "text": [
      "Using Theano backend.\n"
     ]
    }
   ],
   "source": [
    "# Load and scale MNIST data\n",
    "\n",
    "from keras.datasets import mnist\n",
    "\n",
    "(X_train, Y_train), (X_test, Y_test) = mnist.load_data()\n",
    "X_train = X_train.reshape(-1,28*28)/128. - 1\n",
    "X_test = X_test.reshape(-1,28*28)/128. - 1"
   ]
  },
  {
   "cell_type": "markdown",
   "metadata": {
    "ExecuteTime": {
     "end_time": "2019-01-16T17:34:27.780000+01:00",
     "start_time": "2019-01-16T17:34:27.776000"
    }
   },
   "source": [
    "### Experiments on classification accuracy"
   ]
  },
  {
   "cell_type": "code",
   "execution_count": 3,
   "metadata": {
    "ExecuteTime": {
     "end_time": "2019-01-17T00:34:16.661000+01:00",
     "start_time": "2019-01-17T00:34:15.686000"
    },
    "collapsed": true
   },
   "outputs": [],
   "source": [
    "from sklearn.model_selection import  train_test_split\n",
    "from sklearn.pipeline import Pipeline\n",
    "\n",
    "from sklearn.preprocessing import Normalizer, StandardScaler\n",
    "\n",
    "from sklearn.svm import LinearSVC, SVC"
   ]
  },
  {
   "cell_type": "code",
   "execution_count": 4,
   "metadata": {
    "ExecuteTime": {
     "end_time": "2019-01-17T01:54:00.679000+01:00",
     "start_time": "2019-01-17T01:48:50.722000"
    },
    "collapsed": false
   },
   "outputs": [
    {
     "name": "stdout",
     "output_type": "stream",
     "text": [
      "0.9154\n"
     ]
    }
   ],
   "source": [
    "# Linear SVM accuracy (91-92%)\n",
    "# Can be improved a bit by StandardScalling and adjusting C\n",
    "\n",
    "lsvm = LinearSVC(C=.5).fit(X_train, Y_train)\n",
    "print lsvm.score(X_test, Y_test) "
   ]
  },
  {
   "cell_type": "code",
   "execution_count": 5,
   "metadata": {
    "ExecuteTime": {
     "end_time": "2019-01-17T00:41:17.483000+01:00",
     "start_time": "2019-01-17T00:39:38.559000"
    },
    "code_folding": [],
    "collapsed": false
   },
   "outputs": [
    {
     "name": "stdout",
     "output_type": "stream",
     "text": [
      "0.973\n"
     ]
    }
   ],
   "source": [
    "# PolyKernelRandomProjection + Linear SVM accuracy (97-98%)\n",
    "# An appropiate C value must be selected for each case. Satandard-Scalling may be used between the projection and the SVM.\n",
    "\n",
    "pkrp_svm = Pipeline([(\"kRP\", PolyKernelRandomProjection(n_components=2000, p=488, t=10, degree=2)),\n",
    "                     #(\"standarize\", StandardScaler()),\n",
    "                     (\"SVM\", LinearSVC(C=5e-5))\n",
    "                    ])\n",
    "\n",
    "pkrp_svm.fit(X_train, Y_train)\n",
    "print pkrp_svm.score(X_test, Y_test)"
   ]
  },
  {
   "cell_type": "code",
   "execution_count": 4,
   "metadata": {
    "ExecuteTime": {
     "end_time": "2019-01-17T00:47:03.248000+01:00",
     "start_time": "2019-01-17T00:41:52.238000"
    },
    "collapsed": false
   },
   "outputs": [
    {
     "name": "stdout",
     "output_type": "stream",
     "text": [
      "0.9784\n"
     ]
    }
   ],
   "source": [
    "# Poly-kernel SVM accuracy (aprx. 98%)\n",
    "\n",
    "svm = SVC(C=0.5, kernel=\"poly\", gamma=1., degree=2, coef0=0).fit(  X_train, Y_train)\n",
    "print svm.score(X_test, Y_test)"
   ]
  },
  {
   "cell_type": "markdown",
   "metadata": {
    "ExecuteTime": {
     "end_time": "2019-01-16T17:35:00.900000+01:00",
     "start_time": "2019-01-16T17:35:00.897000"
    }
   },
   "source": [
    "## Experiments on distance preservation"
   ]
  },
  {
   "cell_type": "code",
   "execution_count": 5,
   "metadata": {
    "ExecuteTime": {
     "end_time": "2019-01-17T01:37:01.661000+01:00",
     "start_time": "2019-01-17T01:37:01.659000"
    },
    "collapsed": true
   },
   "outputs": [],
   "source": [
    "X_test_small = X_test[0:500]"
   ]
  },
  {
   "cell_type": "code",
   "execution_count": 6,
   "metadata": {
    "ExecuteTime": {
     "end_time": "2019-01-17T01:37:13.219000+01:00",
     "start_time": "2019-01-17T01:37:13.204000"
    },
    "collapsed": true
   },
   "outputs": [],
   "source": [
    "# Compute the pairwise distance matrix in the kernel feature space for the degree-two homogeneous poly kernel\n",
    "# K = <x,y>^2\n",
    "# Distances in the kernel feature space can be computed as Dxy = K(x,x) + K(y,y) - 2 K(x,y)\n",
    "\n",
    "import numpy as np\n",
    "\n",
    "Kxx = np.sum(X_test_small**2, axis=1)**2\n",
    "Kxx = Kxx.reshape((500,1))\n",
    "Kxy = np.dot(X_test_small, X_test_small.T)**2\n",
    "\n",
    "D = np.zeros((500,500))\n",
    "D += Kxx \n",
    "D += Kxx.T\n",
    "D += -2*Kxy"
   ]
  },
  {
   "cell_type": "code",
   "execution_count": 7,
   "metadata": {
    "ExecuteTime": {
     "end_time": "2019-01-17T01:37:34.286000+01:00",
     "start_time": "2019-01-17T01:37:33.915000"
    },
    "collapsed": true
   },
   "outputs": [],
   "source": [
    "from sklearn.metrics import pairwise_distances\n",
    "\n",
    "# Compute a Random Projection from the kernel feature space down to R^1000\n",
    "# and compute the pairwise distance matrix for that representation\n",
    "\n",
    "X_pkrp = PolyKernelRandomProjection(n_components=500, p=8000, t=20, degree=2).fit_transform(X_test_small)\n",
    "D_pkrp = pairwise_distances(X_pkrp)**2"
   ]
  },
  {
   "cell_type": "code",
   "execution_count": 8,
   "metadata": {
    "ExecuteTime": {
     "end_time": "2019-01-17T01:37:36.438000+01:00",
     "start_time": "2019-01-17T01:37:34.287000"
    },
    "collapsed": false
   },
   "outputs": [
    {
     "data": {
      "image/png": "[encoded data removed]",
      "text/plain": [
       "<matplotlib.figure.Figure at 0x14830f28>"
      ]
     },
     "metadata": {},
     "output_type": "display_data"
    }
   ],
   "source": [
    "import matplotlib.pyplot as plt\n",
    "import numpy as np\n",
    "%matplotlib inline\n",
    "\n",
    "# Plot distances in the kernel feature space against distances in the output representation\n",
    "# Also compute the average relative distortion\n",
    "\n",
    "avgdist = np.nanmean(np.divide(np.abs(D_pkrp - D), D))\n",
    "plt.scatter(D.ravel(), D_pkrp.ravel(), s=1, alpha=0.15, c=\"magenta\", linewidths=0)\n",
    "plt.legend([\"avg. distortion: %.2f\"%avgdist], loc=\"lower right\")\n",
    "plt.plot([0,np.max(D)],[0,np.max(D)], c=\"black\", linewidth=2, dashes=[3,3])\n",
    "plt.xlim([0, np.max(D)*1.1])\n",
    "plt.ylim([0, np.max(D)*1.1])\n",
    "plt.xlabel(\"Distances in the kernel feature space\")\n",
    "plt.ylabel(\"Distances in output space\")\n",
    "\n",
    "plt.show()"
   ]
  },
  {
   "cell_type": "code",
   "execution_count": null,
   "metadata": {
    "collapsed": true
   },
   "outputs": [],
   "source": [
    "# Use this to create the GIF in the repo\n",
    "\n",
    "#avgdistList = []\n",
    "#ncomLis = []\n",
    "#\n",
    "#\n",
    "#from pylab import rcParams\n",
    "#rcParams['figure.figsize'] = 10, 4\n",
    "#\n",
    "#plt.subplots_adjust(wspace=2)\n",
    "#plt.figure()\n",
    "#\n",
    "#for i in range(5, 500):\n",
    "#    print i\n",
    "#    temp = []\n",
    "#    for j in range(1,4):\n",
    "#\n",
    "#        X_pkrp = PolyKernelRandomProjection(n_components=i, p=5000, t=20, degree=2).fit_transform(X_test_small)\n",
    "#        D_pkrp = pairwise_distances(X_pkrp)**2\n",
    "#\n",
    "#\n",
    "#        plt.subplots_adjust(wspace=2)\n",
    "#        ax1 = plt.subplot(1,2,1)\n",
    "#        \n",
    "#        ax1.set_title(\"n_components = %d\"%i)\n",
    "#        avgdist = np.nanmean(np.divide(np.abs(D_pkrp - D), D))\n",
    "#        temp.append(avgdist)\n",
    "#        ax1.scatter(D.ravel(), D_pkrp.ravel(), s=1, alpha=0.15, c=\"magenta\", linewidths=0)\n",
    "#        ax1.legend([\"avg. distortion: %.3f\"%avgdist], loc=\"lower right\", markerscale=0,handletextpad=-2.0)\n",
    "#        ax1.plot([0,np.max(D)],[0,np.max(D)], c=\"black\", linewidth=2, dashes=[3,3])\n",
    "#        ax1.set_xlim([0, np.max(D)*1.1])\n",
    "#        ax1.set_ylim([0, np.max(D)*1.1])\n",
    "#        ax1.set_xlabel(\"Pairwise distances in the kernel feature space\")\n",
    "#        ax1.set_ylabel(\"Pairwise distances in output space\")\n",
    "#        \n",
    "#        ax2 = plt.subplot(1,2,2)\n",
    "#       \n",
    "#    \n",
    "#        #avgdist = np.nanmean(np.divide(np.abs(D_pkrp - D), D))\n",
    "#        #ax2.legend([\"avg. distortion: %.2f\"%avgdist], loc=\"lower right\")\n",
    "#        ax2.plot(ncomLis, avgdistList, c=\"red\", linewidth=2)\n",
    "#        ax2.set_xlim([4, 250])\n",
    "#        ax2.set_ylim([0, .55])\n",
    "#        ax2.set_xlabel(\"n_components\")\n",
    "#        ax2.set_ylabel(\"Avg. distortion\")\n",
    "#        \n",
    "#        plt.tight_layout()\n",
    "#\n",
    "#        #plt.show()\n",
    "#        plt.savefig(\"bfig_%04d_%02d.png\"%(i,j))\n",
    "#        plt.clf()\n",
    "#    \n",
    "#    ncomLis.append(i)\n",
    "#    avgdistList.append(np.mean(temp))"
   ]
  },
  {
   "cell_type": "code",
   "execution_count": null,
   "metadata": {
    "collapsed": true
   },
   "outputs": [],
   "source": []
  }
 ],
 "metadata": {
  "kernelspec": {
   "display_name": "Python 2",
   "language": "python",
   "name": "python2"
  },
  "language_info": {
   "codemirror_mode": {
    "name": "ipython",
    "version": 2
   },
   "file_extension": ".py",
   "mimetype": "text/x-python",
   "name": "python",
   "nbconvert_exporter": "python",
   "pygments_lexer": "ipython2",
   "version": "2.7.12"
  }
 },
 "nbformat": 4,
 "nbformat_minor": 2
}
